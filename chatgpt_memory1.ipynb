{
  "nbformat": 4,
  "nbformat_minor": 0,
  "metadata": {
    "colab": {
      "provenance": []
    },
    "kernelspec": {
      "name": "python3",
      "display_name": "Python 3"
    },
    "language_info": {
      "name": "python"
    }
  },
  "cells": [
    {
      "cell_type": "code",
      "source": [
        "import openai\n",
        "import os\n",
        "openai.api_key = \"OPEN-AI_API-KEY\""
      ],
      "metadata": {
        "id": "cNYK2Ual3gi_"
      },
      "execution_count": 5,
      "outputs": []
    },
    {
      "cell_type": "code",
      "source": [
        "model = \"gpt-3.5-turbo\""
      ],
      "metadata": {
        "id": "1CFjKWk83gnZ"
      },
      "execution_count": 6,
      "outputs": []
    },
    {
      "cell_type": "code",
      "source": [
        "ques = input(\"Enter your query: \")"
      ],
      "metadata": {
        "colab": {
          "base_uri": "https://localhost:8080/"
        },
        "id": "g5R_-z6v30Qr",
        "outputId": "c08644d6-8fa4-4d8b-a9b3-128d4d64e76a"
      },
      "execution_count": 7,
      "outputs": [
        {
          "name": "stdout",
          "output_type": "stream",
          "text": [
            "Enter your query: Difference between a firm and an industry?\n"
          ]
        }
      ]
    },
    {
      "cell_type": "code",
      "source": [
        "response = openai.ChatCompletion.create(\n",
        "  model=model,\n",
        "  messages=[\n",
        "  {\"role\": \"user\", \"content\": ques} # role: user means we\n",
        "]\n",
        ")\n",
        "\n",
        "answer = response['choices'][0]['message']['content']"
      ],
      "metadata": {
        "id": "g_sP-ON430Sy"
      },
      "execution_count": 8,
      "outputs": []
    },
    {
      "cell_type": "code",
      "source": [
        "answer"
      ],
      "metadata": {
        "colab": {
          "base_uri": "https://localhost:8080/",
          "height": 87
        },
        "id": "1MWFdJl66lsc",
        "outputId": "c8462932-1d3b-4746-c2a6-84538108101a"
      },
      "execution_count": 9,
      "outputs": [
        {
          "output_type": "execute_result",
          "data": {
            "text/plain": [
              "'A firm is a single entity that produces goods or services, hires employees, and operates for profit. It can be a small or large business that operates within an industry. An industry, on the other hand, is a group of companies that produce similar goods or services. It encompasses different firms that compete with each other to gain a higher market share. In other words, an industry is a broader term that represents a group of firms operating within a specific sector.'"
            ],
            "application/vnd.google.colaboratory.intrinsic+json": {
              "type": "string"
            }
          },
          "metadata": {},
          "execution_count": 9
        }
      ]
    },
    {
      "cell_type": "code",
      "source": [
        "next_ques= input(\"Enter your next query: \")"
      ],
      "metadata": {
        "colab": {
          "base_uri": "https://localhost:8080/"
        },
        "id": "QjSFiF-u6vvp",
        "outputId": "9ae1106f-df91-476a-d8f7-4d93313f04d6"
      },
      "execution_count": 10,
      "outputs": [
        {
          "name": "stdout",
          "output_type": "stream",
          "text": [
            "Enter your next query: Explain more about the latter ?\n"
          ]
        }
      ]
    },
    {
      "cell_type": "code",
      "source": [
        "response1 = openai.ChatCompletion.create(\n",
        "  model=\"gpt-3.5-turbo\",\n",
        "  messages=[\n",
        "      {\"role\": \"assistant\", \"content\":answer}, # role: assistant means bot\n",
        "      {\"role\": \"user\", \"content\": next_ques} # out new question\n",
        "]\n",
        ")\n",
        "\n",
        "answer1 = response1['choices'][0]['message']['content']"
      ],
      "metadata": {
        "id": "LCAcHiZi7HRB"
      },
      "execution_count": 11,
      "outputs": []
    },
    {
      "cell_type": "code",
      "source": [
        "answer1\n",
        "     "
      ],
      "metadata": {
        "colab": {
          "base_uri": "https://localhost:8080/",
          "height": 140
        },
        "id": "_ByS5TQB7X-g",
        "outputId": "5222f7a8-322c-476e-eebf-1cfb681af1f0"
      },
      "execution_count": 12,
      "outputs": [
        {
          "output_type": "execute_result",
          "data": {
            "text/plain": [
              "\"Sure, let me give you an example. The automobile industry is an industry that comprises of various firms that produce cars, trucks, and other types of vehicles. These firms compete with each other to gain more customers and increase their market share. Some well-known firms in the automobile industry are Ford, General Motors, Toyota, and BMW. \\n\\nWithin the automobile industry, there are different segments such as luxury cars, sports cars, and electric vehicles. Each segment has its own characteristics and customer preferences. Therefore, firms within the automobile industry must constantly innovate and differentiate themselves from their competitors to succeed. \\n\\nIndustries can also have their own unique challenges such as regulatory hurdles or changing customer preferences. It's crucial for firms within an industry to stay updated on these changes and adapt their strategies accordingly to stay competitive.\""
            ],
            "application/vnd.google.colaboratory.intrinsic+json": {
              "type": "string"
            }
          },
          "metadata": {},
          "execution_count": 12
        }
      ]
    }
  ]
}